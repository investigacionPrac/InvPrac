{
 "cells": [
  {
   "cell_type": "code",
   "execution_count": null,
   "id": "fcb3b5df",
   "metadata": {},
   "outputs": [],
   "source": [
    "import json\n",
    "from datetime import datetime\n",
    "\n",
    "default_url = 'https://www.tecon.es/'\n",
    "default_logo = './Logo/Tecon.png'\n",
    "fields_to_check = ['privacyStatement', 'EULA', 'help', 'url']\n",
    "\n",
    "with open('app.json', 'r', encoding='utf-8') as file:\n",
    "    data = json.load(file)\n",
    "\n",
    "data['contextSensitiveHelp'] = default_url \n",
    "for field in fields_to_check:\n",
    "    if data.get(field, '') == '':\n",
    "        data[field] = default_url\n",
    "\n",
    "if data.get('logo', '') == '':\n",
    "    data['logo'] = default_logo\n",
    "\n",
    "data['version'] = f\"2.{datetime.now():%Y%m%d}.0.0\"\n",
    "\n",
    "with open('app.json', 'w', encoding='utf-8') as file:\n",
    "    json.dump(data, file, indent=4, ensure_ascii=False)"
   ]
  }
 ],
 "metadata": {
  "language_info": {
   "name": "python"
  }
 },
 "nbformat": 4,
 "nbformat_minor": 5
}
